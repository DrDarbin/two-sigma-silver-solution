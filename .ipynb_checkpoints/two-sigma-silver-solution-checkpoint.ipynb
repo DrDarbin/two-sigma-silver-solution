{
 "cells": [
  {
   "cell_type": "code",
   "execution_count": null,
   "metadata": {
    "_cell_guid": "db80650e-1319-4a88-960c-1dfd3db6aceb",
    "_uuid": "659fae3c-64fb-4786-9b6e-f5cb21fdb303",
    "jupyter": {
     "outputs_hidden": false
    }
   },
   "outputs": [],
   "source": [
    "from kaggle.competitions import twosigmanews\n",
    "# You can only call make_env() once, so don't lose it!\n",
    "env = twosigmanews.make_env()\n",
    "print('Done!')"
   ]
  },
  {
   "cell_type": "code",
   "execution_count": null,
   "metadata": {
    "_cell_guid": "113545c8-d398-4381-8e75-6ef7fb3b95e4",
    "_uuid": "96d8c359-e1de-4b4e-b0ca-91b2e8bce225",
    "jupyter": {
     "outputs_hidden": false
    }
   },
   "outputs": [],
   "source": [
    "(market_train_df, news_train_df) = env.get_training_data()"
   ]
  },
  {
   "cell_type": "code",
   "execution_count": null,
   "metadata": {
    "_cell_guid": "48e60fa7-f73e-4c8f-974f-d6368358aa6b",
    "_uuid": "6624522b-0a87-4587-bbb9-b60865ffcea3",
    "jupyter": {
     "outputs_hidden": false
    }
   },
   "outputs": [],
   "source": [
    "import lightgbm as lgb\n",
    "import numpy as np\n",
    "import pandas as pd\n",
    "import matplotlib.pyplot as plt\n",
    "\n",
    "%matplotlib inline"
   ]
  },
  {
   "cell_type": "code",
   "execution_count": null,
   "metadata": {
    "_cell_guid": "2c0bb457-b446-4bd9-b0b6-13dc5aa18c70",
    "_uuid": "89e5e5e0-c7df-4954-8760-f792b2d1c306",
    "jupyter": {
     "outputs_hidden": false
    }
   },
   "outputs": [],
   "source": [
    "def get_xy(market_train_df, le=None):\n",
    "    x, le = get_x(market_train_df)\n",
    "    y = market_train_df['returnsOpenNextMktres10'].clip(-1, 1)\n",
    "    return x, y, le\n",
    "\n",
    "def label_encode(series, min_count):\n",
    "    vc = series.value_counts()\n",
    "    le = {c:i for i, c in enumerate(vc.index[vc >= min_count])}\n",
    "    return le\n",
    "\n",
    "def get_x(market_train_df, le=None):\n",
    "    if le is None:\n",
    "        le_assetCode = label_encode(market_train_df['assetCode'], min_count=10)\n",
    "        le_assetName = label_encode(market_train_df['assetName'], min_count=5)\n",
    "    else:\n",
    "        le_assetCode, le_assetName = le\n",
    "        \n",
    "    x = market_train_df.copy()\n",
    "    \n",
    "    x['assetCode'] = x['assetCode'].map(le_assetCode).fillna(-1).astype(int)\n",
    "    x['assetName'] = x['assetName'].map(le_assetName).fillna(-1).astype(int)\n",
    "    \n",
    "    try:\n",
    "        x.drop(columns=['returnsOpenNextMktres10'], inplace=True)\n",
    "    except:\n",
    "        pass\n",
    "    try:\n",
    "        x.drop(columns=['universe'], inplace=True)\n",
    "    except:\n",
    "        pass\n",
    "    x['dayofweek'], x['month'] = x.time.dt.dayofweek, x.time.dt.month\n",
    "    x.drop(columns='time', inplace=True)\n",
    "    x.fillna(-1000,inplace=True)\n",
    "    return x, (le_assetCode, le_assetName)"
   ]
  },
  {
   "cell_type": "code",
   "execution_count": null,
   "metadata": {
    "_cell_guid": "5174b05d-10ec-478c-8c8f-b9fab134844c",
    "_uuid": "05849ffc-0569-41b6-8334-3bbb416e4727",
    "jupyter": {
     "outputs_hidden": false
    }
   },
   "outputs": [],
   "source": [
    "eps = 1e-4\n",
    "market_train_df['returnsOpenNextMktres10'].quantile([eps, 1-eps])"
   ]
  },
  {
   "cell_type": "code",
   "execution_count": null,
   "metadata": {
    "_cell_guid": "ea108407-1c6e-4ecd-b24a-f6969cfa2114",
    "_uuid": "49f550d2-9ce6-4843-b2db-c6612987e922",
    "jupyter": {
     "outputs_hidden": false
    }
   },
   "outputs": [],
   "source": [
    "market_train_df['returnsOpenNextMktres10'].hist(bins=200, range=(-0.3, 0.3), cumulative=True, normed=True)\n",
    "x = np.linspace(-0.3, 0.3)\n",
    "y = np.tanh(x / 0.065) * 0.5 + 0.5\n",
    "plt.plot(x, y)\n",
    "plt.xlim(-0.3, 0.3)"
   ]
  },
  {
   "cell_type": "code",
   "execution_count": null,
   "metadata": {
    "_cell_guid": "a4451d15-ecac-43c3-8dd5-00b62a30fdfa",
    "_uuid": "fb41123a-0f86-481b-b0fc-84719917a3a4",
    "jupyter": {
     "outputs_hidden": false
    }
   },
   "outputs": [],
   "source": [
    "X, y, le = get_xy(market_train_df)"
   ]
  },
  {
   "cell_type": "code",
   "execution_count": null,
   "metadata": {
    "_cell_guid": "91b62c6d-70c8-4c37-87b5-b3aa4def4f73",
    "_uuid": "b26ae18b-beac-412a-9bfb-5e788792d396",
    "jupyter": {
     "outputs_hidden": false
    }
   },
   "outputs": [],
   "source": [
    "X.tail()"
   ]
  },
  {
   "cell_type": "code",
   "execution_count": null,
   "metadata": {
    "_cell_guid": "59f4ccb4-2f3d-4739-9a06-16d253d61d8d",
    "_uuid": "eae3874b-5994-4093-9075-1656e85f3fab",
    "jupyter": {
     "outputs_hidden": false
    }
   },
   "outputs": [],
   "source": [
    "n_train = int(market_train_df.shape[0] * 0.8)\n",
    "\n",
    "X_train, y_train = X.iloc[:n_train], y.iloc[:n_train]\n",
    "X_valid, y_valid = X.iloc[n_train:], y.iloc[n_train:]\n",
    "\n",
    "df_valid = market_train_df.iloc[n_train:]"
   ]
  },
  {
   "cell_type": "code",
   "execution_count": null,
   "metadata": {
    "_cell_guid": "56449129-93c0-4245-b90f-7afaeb5b0137",
    "_uuid": "90d66f61-c299-4779-b169-4adbd5aed885",
    "jupyter": {
     "outputs_hidden": false
    }
   },
   "outputs": [],
   "source": [
    "X.shape"
   ]
  },
  {
   "cell_type": "code",
   "execution_count": null,
   "metadata": {
    "_cell_guid": "307ef0c8-48ca-4323-83e6-699bb3f0a0de",
    "_uuid": "a5cd9608-1d9c-4df0-b3f2-edabb926b73b",
    "jupyter": {
     "outputs_hidden": false
    }
   },
   "outputs": [],
   "source": [
    "train_cols = X.columns.tolist()\n",
    "categorical_cols = ['assetCode', 'assetName']\n",
    "\n",
    "dtrain = lgb.Dataset(X_train, y_train, feature_name=train_cols, categorical_feature=categorical_cols, free_raw_data=False)\n",
    "dvalid = lgb.Dataset(X_valid, y_valid, feature_name=train_cols, categorical_feature=categorical_cols, free_raw_data=False)"
   ]
  },
  {
   "cell_type": "code",
   "execution_count": null,
   "metadata": {
    "_cell_guid": "8ef91d7f-8ecb-4238-8fe8-16c8142adfa7",
    "_uuid": "09ac30da-fd45-46a5-bc7e-0d233867b03a",
    "jupyter": {
     "outputs_hidden": false
    }
   },
   "outputs": [],
   "source": [
    "lgb_params = dict(\n",
    "    objective = 'regression_l1',\n",
    "    learning_rate = 0.1,\n",
    "    num_leaves = 15,\n",
    "    max_depth = -1,\n",
    "    min_data_in_leaf = 20,\n",
    "    min_sum_hessian_in_leaf = 1e-3,\n",
    "    bagging_fraction = 0.5,\n",
    "    bagging_freq = 2,\n",
    "    feature_fraction = 1.0,\n",
    "    lambda_l1 = 0,\n",
    "    lambda_l2 = 0\n",
    ")\n",
    "\n",
    "def sigma_score(preds, train_data):\n",
    "    labels = train_data.get_label()\n",
    "    \n",
    "    assert len(labels) == len(df_valid)\n",
    "\n",
    "    x_t = (preds * labels * df_valid['universe']).to_frame()\n",
    "    x_t_sum = x_t.groupby(df_valid['time'])[0].sum()\n",
    "    score = x_t_sum.mean() / x_t_sum.std()\n",
    "\n",
    "    return 'sigma_score', score, True\n",
    "\n",
    "\n",
    "evals_result = {}\n",
    "m = lgb.train(lgb_params, dtrain, num_boost_round=400, valid_sets=(dvalid), valid_names=('valid'), verbose_eval=25,\n",
    "              early_stopping_rounds=50, feval=sigma_score, evals_result=evals_result)\n",
    "\n",
    "\n",
    "df_result = pd.DataFrame(evals_result['valid'])"
   ]
  },
  {
   "cell_type": "code",
   "execution_count": null,
   "metadata": {
    "_cell_guid": "4f55358b-2751-45ce-a206-5c0708aca860",
    "_uuid": "ab58c56a-bb2b-412b-aa8d-eaed4dc49823",
    "jupyter": {
     "outputs_hidden": false
    }
   },
   "outputs": [],
   "source": [
    "fig, ax = plt.subplots(1, 2, figsize=(15, 6))\n",
    "\n",
    "metric = df_result.columns[0]\n",
    "\n",
    "axt = ax[0].twinx()\n",
    "\n",
    "df_result['sigma_score'].plot(ax=ax[0])\n",
    "ax[0].scatter(df_result['sigma_score'].idxmax(), df_result['sigma_score'].max(), marker='+', color='red')\n",
    "\n",
    "df_result[metric].plot(ax=axt, color='orange')\n",
    "axt.scatter(df_result[metric].idxmin(), df_result[metric].min(), marker='+', color='red')\n",
    "\n",
    "df_result.plot(x=metric, y='sigma_score', ax=ax[1], alpha=0.5)\n",
    "df_result.plot(kind='scatter', x=metric, y='sigma_score', ax=ax[1])\n",
    "ax[1].set_xlim(*df_result[metric].quantile((0.01, 0.99)))\n",
    "ax[1].set_ylim(*df_result['sigma_score'].quantile((0.01, 0.99)))\n",
    "\n",
    "fig.legend(loc='center right')\n",
    "fig.tight_layout()"
   ]
  },
  {
   "cell_type": "code",
   "execution_count": null,
   "metadata": {
    "_cell_guid": "04ef7182-d291-4977-b171-6c63b6250328",
    "_uuid": "dfb31d58-a8e8-43e6-af0f-569d787e5eec",
    "jupyter": {
     "outputs_hidden": false
    }
   },
   "outputs": [],
   "source": [
    "lgb.plot_importance(m);"
   ]
  },
  {
   "cell_type": "markdown",
   "metadata": {
    "_cell_guid": "949823c9-a315-48f9-a02d-2278659ed178",
    "_uuid": "63228fc4-a2ff-467c-8c65-6bc0e1150978"
   },
   "source": [
    "# Train full model\n",
    "Now we train a full model with `num_boost_round` found in validation."
   ]
  },
  {
   "cell_type": "code",
   "execution_count": null,
   "metadata": {
    "_cell_guid": "c386aaec-bb2c-40d7-aed4-76761031374f",
    "_uuid": "c8b4fede-84d2-4595-95d5-3cc5a975843d",
    "jupyter": {
     "outputs_hidden": false
    }
   },
   "outputs": [],
   "source": [
    "num_boost_round, valid_score = df_result['sigma_score'].idxmax()+1, df_result['sigma_score'].max()\n",
    "\n",
    "print(f'Best score was {valid_score:.5f} on round {num_boost_round}')"
   ]
  },
  {
   "cell_type": "code",
   "execution_count": null,
   "metadata": {
    "_cell_guid": "73eff1d2-b7db-46bd-8962-b06abff77ece",
    "_uuid": "e0cee7c6-183e-40e4-8c1f-fea17072d952",
    "jupyter": {
     "outputs_hidden": false
    }
   },
   "outputs": [],
   "source": [
    "dtrain_full = lgb.Dataset(X, y, feature_name=train_cols, categorical_feature=categorical_cols)\n",
    "\n",
    "model = lgb.train(lgb_params, dtrain, num_boost_round=num_boost_round)"
   ]
  },
  {
   "cell_type": "code",
   "execution_count": null,
   "metadata": {
    "_cell_guid": "78aa3e71-ca08-4b9d-9667-3da8749851e8",
    "_uuid": "76f6b4b2-07d3-469a-870b-034cbe60b5c7",
    "jupyter": {
     "outputs_hidden": false
    }
   },
   "outputs": [],
   "source": [
    "def make_predictions(predictions_template_df, market_obs_df, le):\n",
    "    x, _ = get_x(market_obs_df, le)\n",
    "    predictions_template_df.confidenceValue = np.clip(model.predict(x), -1, 1)"
   ]
  },
  {
   "cell_type": "code",
   "execution_count": null,
   "metadata": {
    "_cell_guid": "e4be9b11-6d40-4176-a8bc-4710fa39995f",
    "_uuid": "2923bfdb-a43e-409c-b359-cd4b620a76ec",
    "jupyter": {
     "outputs_hidden": false
    }
   },
   "outputs": [],
   "source": [
    "days = env.get_prediction_days()\n",
    "\n",
    "for (market_obs_df, news_obs_df, predictions_template_df) in days:\n",
    "    make_predictions(predictions_template_df, market_obs_df, le)\n",
    "    env.predict(predictions_template_df)\n",
    "print('Done!')"
   ]
  },
  {
   "cell_type": "code",
   "execution_count": null,
   "metadata": {
    "_cell_guid": "89de41bb-2328-4568-90a1-b8236194261b",
    "_uuid": "b165cdb9-8666-4ec7-b742-8e2a5f3f7b4a",
    "jupyter": {
     "outputs_hidden": false
    }
   },
   "outputs": [],
   "source": [
    "env.write_submission_file()"
   ]
  }
 ],
 "metadata": {
  "kernelspec": {
   "display_name": "Python 3",
   "language": "python",
   "name": "python3"
  },
  "language_info": {
   "codemirror_mode": {
    "name": "ipython",
    "version": 3
   },
   "file_extension": ".py",
   "mimetype": "text/x-python",
   "name": "python",
   "nbconvert_exporter": "python",
   "pygments_lexer": "ipython3",
   "version": "3.7.6"
  }
 },
 "nbformat": 4,
 "nbformat_minor": 4
}
